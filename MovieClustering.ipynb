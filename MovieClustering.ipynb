{
 "cells": [
  {
   "cell_type": "code",
   "execution_count": 1,
   "metadata": {
    "collapsed": false
   },
   "outputs": [
    {
     "name": "stdout",
     "output_type": "stream",
     "text": [
      "NB USERS : \n",
      "943\n",
      "similarite 1,60.322981957892\n",
      "similarite 1,20.263008947668\n",
      "similarite 2,60.367002430414\n",
      "Cluster J : [[ 17.           0.08417995]]\n",
      "17.0\n",
      "maxV : 1.0\n",
      "indexV : 307\n",
      "maxV : 0.956432204409\n",
      "indexV : 367\n",
      "maxV : 0.698326232884\n",
      "indexV : 896\n",
      "[308, 368, 897]\n",
      "17.0\n",
      "vecteur user cible : [ 0.    0.24  0.07  0.03  0.09  0.38  0.26  0.    1.    0.03  0.07  0.05\n",
      "  0.03  0.09  0.48  0.08  0.33  0.05  0.  ]\n",
      "17.0\n",
      "vecteur voisins : [ 0.    0.68  0.16  0.16  0.32  0.32  0.21  0.    1.    0.    0.    0.\n",
      "  0.37  0.21  0.42  0.26  0.47  0.58  0.  ]\n",
      "17.0\n",
      "vecteur voisins : [ 0.    0.61  0.48  0.    0.    0.3   0.17  0.    1.    0.    0.    0.    0.\n",
      "  0.    0.39  0.52  0.48  0.    0.  ]\n",
      "17.0\n",
      "vecteur voisins : [ 0.    0.56  0.18  0.    0.1   0.46  0.49  0.    1.    0.    0.1   0.08\n",
      "  0.    0.41  0.15  0.33  0.46  0.08  0.  ]\n"
     ]
    },
    {
     "name": "stderr",
     "output_type": "stream",
     "text": [
      "/System/Library/Frameworks/Python.framework/Versions/2.7/Extras/lib/python/numpy/core/_methods.py:55: RuntimeWarning: Mean of empty slice.\n",
      "  warnings.warn(\"Mean of empty slice.\", RuntimeWarning)\n"
     ]
    }
   ],
   "source": [
    "from MovieClustering import*"
   ]
  },
  {
   "cell_type": "code",
   "execution_count": 57,
   "metadata": {
    "collapsed": false
   },
   "outputs": [
    {
     "name": "stdout",
     "output_type": "stream",
     "text": [
      "[308, 368, 897]\n",
      "1\n",
      "262\n",
      "288\n",
      "7.0\n",
      "Evita (1996)\n",
      "Duck Soup (1933)\n",
      "Gandhi (1982)\n",
      "Ran (1985)\n",
      "Very Brady Sequel, A (1996)\n"
     ]
    }
   ],
   "source": [
    "listeFilmsNonVu = []\n",
    "listeNotesNonVu = [[]]\n",
    "listeFilmsVu = []\n",
    "print listeKnn\n",
    "for i in range(len(dataset.notes)):\n",
    "    notes = dataset.notes\n",
    "    if(notes[i].idUser in listeKnn):\n",
    "        if(notes[i].idMovie not in listeFilmsNonVu):\n",
    "            listeFilmsNonVu.append(notes[i].idMovie)\n",
    "\n",
    "            listeNotesNonVu.append([notes[i].note,1])\n",
    "        else:\n",
    "            j = listeFilmsNonVu.index(notes[i].idMovie)\n",
    "            listeNotesNonVu[j][0] = listeNotesNonVu[j][0] + notes[i].note\n",
    "            listeNotesNonVu[j][1] = listeNotesNonVu[j][1] + 1\n",
    "    if(notes[i].idUser > max(listeKnn)):\n",
    "        break\n",
    "j = 1      \n",
    "print dataset.users[j-1].id     \n",
    "for i in dataset.notes:\n",
    "    \n",
    "    if(i.idUser == dataset.users[j-1].id):\n",
    "        listeFilmsVu.append(i.idMovie)\n",
    "\n",
    "i = 0\n",
    "print len(listeFilmsVu)\n",
    "while(i<len(listeFilmsNonVu)):\n",
    "    if listeFilmsNonVu[i] in listeFilmsVu:\n",
    "        listeFilmsNonVu.pop(i)\n",
    "        listeNotesNonVu.pop(i)\n",
    "    else:\n",
    "        i = i + 1\n",
    "        \n",
    "print len(listeFilmsNonVu)\n",
    "listeNote = []\n",
    "for i in range(len(listeFilmsVu)):\n",
    "    bonus = listeNotesNonVu[i][1]\n",
    "    listeNote.append((listeNotesNonVu[i][0] / (listeNotesNonVu[i][1] * 1.0)) + bonus)\n",
    "\n",
    "\n",
    "print max(listeNote)\n",
    "listeFilmVoir = []\n",
    "\n",
    "\n",
    "for i in range(5):\n",
    "    listeFilmVoir.append(listeFilmsNonVu[listeNote.index(max(listeNote))])\n",
    "    listeNote[listeNote.index(max(listeNote))] = -1\n",
    "\n",
    "for i in listeFilmVoir:\n",
    "    print dataset.movies[i].nom\n",
    "    \n",
    "\n"
   ]
  },
  {
   "cell_type": "code",
   "execution_count": 4,
   "metadata": {
    "collapsed": false
   },
   "outputs": [
    {
     "name": "stdout",
     "output_type": "stream",
     "text": [
      "pca_time : 82.207736969\n"
     ]
    }
   ],
   "source": []
  },
  {
   "cell_type": "code",
   "execution_count": 9,
   "metadata": {
    "collapsed": true
   },
   "outputs": [],
   "source": []
  },
  {
   "cell_type": "code",
   "execution_count": null,
   "metadata": {
    "collapsed": true
   },
   "outputs": [],
   "source": []
  },
  {
   "cell_type": "code",
   "execution_count": 11,
   "metadata": {
    "collapsed": true
   },
   "outputs": [],
   "source": []
  },
  {
   "cell_type": "code",
   "execution_count": 12,
   "metadata": {
    "collapsed": false
   },
   "outputs": [
    {
     "data": {
      "text/latex": [
       "\\begin{eqnarray}\n",
       "\\nabla \\times \\vec{\\mathbf{B}} -\\, \\frac1c\\, \\frac{\\partial\\vec{\\mathbf{E}}}{\\partial t} & = \\frac{4\\pi}{c}\\vec{\\mathbf{j}} \\\\\n",
       "\\nabla \\cdot \\vec{\\mathbf{E}} & = 4 \\pi \\rho \\\\\n",
       "\\nabla \\times \\vec{\\mathbf{E}}\\, +\\, \\frac1c\\, \\frac{\\partial\\vec{\\mathbf{B}}}{\\partial t} & = \\vec{\\mathbf{0}} \\\\\n",
       "\\nabla \\cdot \\vec{\\mathbf{B}} & = 0 \n",
       "\\end{eqnarray}"
      ],
      "text/plain": [
       "<IPython.core.display.Latex object>"
      ]
     },
     "execution_count": 12,
     "metadata": {},
     "output_type": "execute_result"
    }
   ],
   "source": []
  },
  {
   "cell_type": "markdown",
   "metadata": {},
   "source": [
    "Dictionaries\n",
    "===\n",
    "Dictionaries allow us to store connected bits of information. For example, you might store a person's name and age together."
   ]
  },
  {
   "cell_type": "code",
   "execution_count": null,
   "metadata": {
    "collapsed": true
   },
   "outputs": [],
   "source": []
  }
 ],
 "metadata": {
  "kernelspec": {
   "display_name": "Python 2",
   "language": "python",
   "name": "python2"
  },
  "language_info": {
   "codemirror_mode": {
    "name": "ipython",
    "version": 2
   },
   "file_extension": ".py",
   "mimetype": "text/x-python",
   "name": "python",
   "nbconvert_exporter": "python",
   "pygments_lexer": "ipython2",
   "version": "2.7.6"
  }
 },
 "nbformat": 4,
 "nbformat_minor": 0
}
