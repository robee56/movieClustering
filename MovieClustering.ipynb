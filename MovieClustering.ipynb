{
 "cells": [
  {
   "cell_type": "code",
   "execution_count": 1,
   "metadata": {
    "collapsed": false
   },
   "outputs": [
    {
     "name": "stdout",
     "output_type": "stream",
     "text": [
      "NB USERS : \n",
      "943\n",
      "similarite 1,60.322981957892\n",
      "similarite 1,20.263008947668\n",
      "similarite 2,60.367002430414\n"
     ]
    },
    {
     "name": "stderr",
     "output_type": "stream",
     "text": [
      "/System/Library/Frameworks/Python.framework/Versions/2.7/Extras/lib/python/numpy/core/_methods.py:55: RuntimeWarning: Mean of empty slice.\n",
      "  warnings.warn(\"Mean of empty slice.\", RuntimeWarning)\n"
     ]
    }
   ],
   "source": [
    "from MovieClustering import*"
   ]
  },
  {
   "cell_type": "code",
   "execution_count": 9,
   "metadata": {
    "collapsed": false
   },
   "outputs": [
    {
     "name": "stdout",
     "output_type": "stream",
     "text": [
      "[165, 802, 768, 92, 742, 282, 133, 107, 74, 623, 772, 44, 594, 578, 475]\n",
      "11.0\n",
      "vecteur user cible : [ 0.    0.24  0.07  0.03  0.09  0.38  0.26  0.    1.    0.03  0.07  0.05\n",
      "  0.03  0.09  0.48  0.08  0.33  0.05  0.  ]\n",
      "11.0\n",
      "vecteur voisins : [ 0.    0.6   0.    0.    0.2   1.    0.    0.    0.93  0.    0.    0.    0.\n",
      "  0.    0.67  0.    0.8   0.13  0.  ]\n",
      "11.0\n",
      "vecteur voisins : [ 0.    0.3   0.1   0.13  0.33  0.7   0.13  0.    1.    0.    0.    0.13\n",
      "  0.23  0.3   0.23  0.17  0.6   0.    0.  ]\n",
      "11.0\n",
      "vecteur voisins : [ 0.    0.59  0.24  0.21  0.21  1.    0.12  0.    0.15  0.09  0.    0.\n",
      "  0.09  0.    0.41  0.41  0.26  0.21  0.  ]\n",
      "11.0\n",
      "vecteur voisins : [ 0.    0.43  0.29  0.36  0.43  0.57  0.    0.    1.    0.    0.    0.    0.\n",
      "  0.    0.93  0.21  0.21  0.21  0.  ]\n",
      "11.0\n",
      "vecteur voisins : [ 0.    0.52  0.17  0.1   0.12  0.52  0.12  0.    1.    0.05  0.12  0.\n",
      "  0.07  0.19  0.36  0.38  0.57  0.43  0.  ]\n",
      "11.0\n",
      "vecteur voisins : [ 0.    0.21  0.21  0.13  0.2   1.    0.1   0.    0.22  0.03  0.    0.06\n",
      "  0.2   0.06  0.33  0.13  0.13  0.07  0.04]\n",
      "11.0\n",
      "vecteur voisins : [ 0.    0.58  0.    0.21  0.29  1.    0.08  0.    1.    0.08  0.08  0.    0.\n",
      "  0.25  0.38  0.    0.75  0.21  0.  ]\n",
      "11.0\n",
      "vecteur voisins : [ 0.    0.71  0.37  0.11  0.18  0.66  0.11  0.    1.    0.    0.    0.\n",
      "  0.21  0.18  0.55  0.32  0.39  0.32  0.  ]\n",
      "11.0\n",
      "vecteur voisins : [ 0.    0.52  0.37  0.17  0.22  1.    0.19  0.    0.58  0.12  0.    0.05\n",
      "  0.04  0.06  0.28  0.22  0.5   0.14  0.  ]\n",
      "11.0\n",
      "vecteur voisins : [ 0.    0.49  0.17  0.06  0.06  0.7   0.23  0.    1.    0.02  0.02  0.06\n",
      "  0.05  0.17  0.43  0.22  0.52  0.14  0.  ]\n",
      "11.0\n",
      "vecteur voisins : [ 0.    0.54  0.27  0.14  0.06  0.89  0.24  0.02  1.    0.01  0.02  0.16\n",
      "  0.05  0.06  0.41  0.46  0.4   0.2   0.03]\n",
      "11.0\n",
      "vecteur voisins : [ 0.    0.33  0.52  0.23  0.36  1.    0.17  0.    0.55  0.1   0.06  0.04\n",
      "  0.14  0.    0.52  0.29  0.32  0.13  0.  ]\n",
      "11.0\n",
      "vecteur voisins : [ 0.    0.36  0.25  0.04  0.1   0.67  0.29  0.04  1.    0.06  0.    0.02\n",
      "  0.    0.05  0.51  0.27  0.43  0.15  0.03]\n",
      "11.0\n",
      "vecteur voisins : [ 0.    0.34  0.23  0.05  0.    1.    0.11  0.    0.48  0.    0.    0.08\n",
      "  0.08  0.09  0.56  0.2   0.24  0.17  0.04]\n",
      "11.0\n",
      "vecteur voisins : [ 0.    0.31  0.11  0.    0.03  1.    0.07  0.    0.22  0.01  0.    0.09\n",
      "  0.07  0.02  0.3   0.06  0.14  0.09  0.04]\n",
      "325\n",
      "5.0\n",
      "[530, 518, 582, 640, 789]\n",
      "Shine (1996)\n",
      "[0.0, 0.0, 0.0, 0.0, 0.0, 0.0, 0.0, 0.0, 1.0, 0.0, 0.0, 0.0, 0.0, 0.0, 1.0, 0.0, 0.0, 0.0, 0.0]\n",
      "Treasure of the Sierra Madre, The (1948)\n",
      "[0.0, 0.0, 1.0, 0.0, 0.0, 0.0, 0.0, 0.0, 0.0, 0.0, 0.0, 0.0, 0.0, 0.0, 0.0, 0.0, 0.0, 0.0, 0.0]\n",
      "Romeo Is Bleeding (1993)\n",
      "[0.0, 0.0, 0.0, 0.0, 0.0, 0.0, 1.0, 0.0, 0.0, 0.0, 0.0, 0.0, 0.0, 0.0, 0.0, 0.0, 1.0, 0.0, 0.0]\n",
      "Paths of Glory (1957)\n",
      "[0.0, 0.0, 0.0, 0.0, 0.0, 0.0, 0.0, 0.0, 1.0, 0.0, 0.0, 0.0, 0.0, 0.0, 0.0, 0.0, 0.0, 1.0, 0.0]\n",
      "Tommy Boy (1995)\n",
      "[0.0, 0.0, 0.0, 0.0, 0.0, 1.0, 0.0, 0.0, 0.0, 0.0, 0.0, 0.0, 0.0, 0.0, 0.0, 0.0, 0.0, 0.0, 0.0]\n"
     ]
    }
   ],
   "source": [
    "k = 15\n",
    "j = 1 \n",
    "recommandation(k,j,clusterAssment[j-1][0,0] )"
   ]
  },
  {
   "cell_type": "code",
   "execution_count": null,
   "metadata": {
    "collapsed": true
   },
   "outputs": [],
   "source": []
  },
  {
   "cell_type": "code",
   "execution_count": null,
   "metadata": {
    "collapsed": true
   },
   "outputs": [],
   "source": []
  },
  {
   "cell_type": "code",
   "execution_count": null,
   "metadata": {
    "collapsed": true
   },
   "outputs": [],
   "source": []
  },
  {
   "cell_type": "code",
   "execution_count": null,
   "metadata": {
    "collapsed": false
   },
   "outputs": [],
   "source": []
  },
  {
   "cell_type": "markdown",
   "metadata": {},
   "source": [
    "Dictionaries\n",
    "===\n",
    "Dictionaries allow us to store connected bits of information. For example, you might store a person's name and age together."
   ]
  },
  {
   "cell_type": "code",
   "execution_count": null,
   "metadata": {
    "collapsed": true
   },
   "outputs": [],
   "source": []
  }
 ],
 "metadata": {
  "kernelspec": {
   "display_name": "Python 2",
   "language": "python",
   "name": "python2"
  },
  "language_info": {
   "codemirror_mode": {
    "name": "ipython",
    "version": 2
   },
   "file_extension": ".py",
   "mimetype": "text/x-python",
   "name": "python",
   "nbconvert_exporter": "python",
   "pygments_lexer": "ipython2",
   "version": "2.7.6"
  }
 },
 "nbformat": 4,
 "nbformat_minor": 0
}
